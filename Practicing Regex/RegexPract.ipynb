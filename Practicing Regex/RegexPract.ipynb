{
 "cells": [
  {
   "cell_type": "markdown",
   "id": "a70c563b-4133-4a10-a131-9d41e85c41c4",
   "metadata": {},
   "source": [
    "# Intro to Regex"
   ]
  },
  {
   "cell_type": "code",
   "execution_count": 1,
   "id": "c5755720-93d1-429f-a659-38b16e81d642",
   "metadata": {
    "tags": []
   },
   "outputs": [],
   "source": [
    "import re \n",
    "import pandas as pd"
   ]
  },
  {
   "cell_type": "code",
   "execution_count": 2,
   "id": "32a9a24a-99b1-46d1-9fa6-e981a8f4d575",
   "metadata": {
    "tags": []
   },
   "outputs": [
    {
     "name": "stdout",
     "output_type": "stream",
     "text": [
      "testing testing \n",
      "tis on new line\n"
     ]
    }
   ],
   "source": [
    "print(\"testing testing \\ntis on new line\")"
   ]
  },
  {
   "cell_type": "code",
   "execution_count": 3,
   "id": "335eea13-8534-400b-9abf-a97d62d90178",
   "metadata": {
    "tags": []
   },
   "outputs": [],
   "source": [
    "# Try for 0 or 1 \n",
    "trial = \"Mega world\""
   ]
  },
  {
   "cell_type": "code",
   "execution_count": 4,
   "id": "5f5ee663-b854-4da1-a064-f4043f74c423",
   "metadata": {
    "tags": []
   },
   "outputs": [],
   "source": [
    "veggie_request = 'I would like to some vegetables, vitamins, and water'"
   ]
  },
  {
   "cell_type": "code",
   "execution_count": 5,
   "id": "652e00ba-f131-426a-be16-7f1e13e80bd3",
   "metadata": {
    "tags": []
   },
   "outputs": [
    {
     "data": {
      "text/plain": [
       "'I would like to some Meat, vitamins, and water'"
      ]
     },
     "execution_count": 5,
     "metadata": {},
     "output_type": "execute_result"
    }
   ],
   "source": [
    "# the variable, object, replace (word_to_replace, \"replacement\")\n",
    "veggie_request.replace('vegetables', 'Meat')"
   ]
  },
  {
   "cell_type": "markdown",
   "id": "ea24d7c1-d386-4867-8335-e7212ddac73e",
   "metadata": {},
   "source": [
    "We see heere the string method replacement works perfectly when we know exactly what we are looking for and easier to apply to finite numbers "
   ]
  },
  {
   "cell_type": "code",
   "execution_count": 6,
   "id": "149328b4-fc80-4d13-b373-6061d2b27b9e",
   "metadata": {
    "tags": []
   },
   "outputs": [],
   "source": [
    "text_with_whitespace = 'This is text.          White space go uwu'"
   ]
  },
  {
   "cell_type": "code",
   "execution_count": 7,
   "id": "f2595ba1-6291-4e4c-b7d2-8cc6de754946",
   "metadata": {
    "tags": []
   },
   "outputs": [
    {
     "data": {
      "text/plain": [
       "'This is text.          White space go uwu'"
      ]
     },
     "execution_count": 7,
     "metadata": {},
     "output_type": "execute_result"
    }
   ],
   "source": [
    "cleaned_text = text_with_whitespace.strip()\n",
    "cleaned_text"
   ]
  },
  {
   "cell_type": "code",
   "execution_count": 8,
   "id": "3672c4ce-f720-409f-9295-4d15f4f61679",
   "metadata": {
    "tags": []
   },
   "outputs": [
    {
     "data": {
      "text/plain": [
       "'This is text. White space go uwu'"
      ]
     },
     "execution_count": 8,
     "metadata": {},
     "output_type": "execute_result"
    }
   ],
   "source": [
    "re.sub('\\s+',' ',cleaned_text)"
   ]
  },
  {
   "cell_type": "markdown",
   "id": "6a9c5763-7635-410a-9430-ca648cf73c9e",
   "metadata": {},
   "source": [
    "# Implementation 2"
   ]
  },
  {
   "cell_type": "code",
   "execution_count": 9,
   "id": "892fbdd6-88ce-4f1d-8eea-716c4a03a35a",
   "metadata": {
    "tags": []
   },
   "outputs": [
    {
     "data": {
      "text/plain": [
       "'This is text.          White space go uwu'"
      ]
     },
     "execution_count": 9,
     "metadata": {},
     "output_type": "execute_result"
    }
   ],
   "source": [
    "re.sub('^\\s+ | $\\s',' ', cleaned_text)"
   ]
  },
  {
   "cell_type": "markdown",
   "id": "3f9a6227-2f18-4bec-83b1-109588c5ea13",
   "metadata": {},
   "source": [
    "# Second Hour"
   ]
  },
  {
   "cell_type": "code",
   "execution_count": 10,
   "id": "d0b9e7e3-f602-46b9-9c1c-e36ed8be0736",
   "metadata": {
    "tags": []
   },
   "outputs": [
    {
     "data": {
      "text/plain": [
       "['$45', '$67']"
      ]
     },
     "execution_count": 10,
     "metadata": {},
     "output_type": "execute_result"
    }
   ],
   "source": [
    "# Find all occurances of a pattern\n",
    "\n",
    "# Example: Find all occurances of a pattern \n",
    "\n",
    "text = 'The prices are $45 abd $67'\n",
    "\n",
    "# The syntax for finall would be (pattern, string)\n",
    "# .findall returns a list\n",
    "# \\ allows to treat commands as strings\n",
    "prices = re.findall('\\$\\d+', text)\n",
    "\n",
    "prices\n"
   ]
  },
  {
   "cell_type": "code",
   "execution_count": 11,
   "id": "0f100d86-e9d2-4311-8e95-6e925cea4e10",
   "metadata": {
    "tags": []
   },
   "outputs": [
    {
     "data": {
      "text/plain": [
       "0    100\n",
       "1    200\n",
       "2    150\n",
       "Name: numbers, dtype: object"
      ]
     },
     "execution_count": 11,
     "metadata": {},
     "output_type": "execute_result"
    }
   ],
   "source": [
    "data = {\n",
    "    'text' : ['apples 100 500', 'banana 200', 'cherry 150']\n",
    "}\n",
    "\n",
    "df = pd.DataFrame(data)\n",
    "\n",
    "df['numbers'] = df['text'].str.extract('(\\d+)')\n",
    "\n",
    "df['numbers']"
   ]
  },
  {
   "cell_type": "code",
   "execution_count": 12,
   "id": "6e735943-e174-400a-b92b-8d9bbaa94538",
   "metadata": {
    "tags": []
   },
   "outputs": [
    {
     "name": "stdout",
     "output_type": "stream",
     "text": [
      "['100', '500']\n",
      "['200']\n",
      "['150']\n"
     ]
    }
   ],
   "source": [
    "for i in range(len(df)):\n",
    "    print(re.findall('\\d+', df.loc[i, 'text']))\n"
   ]
  },
  {
   "cell_type": "markdown",
   "id": "147286c6-c8ac-4c8b-b4c4-148cf5827bca",
   "metadata": {},
   "source": [
    "# Basic Matching"
   ]
  },
  {
   "cell_type": "code",
   "execution_count": 13,
   "id": "252e4612-0963-4d9e-99db-b5aa1e238ba5",
   "metadata": {
    "tags": []
   },
   "outputs": [],
   "source": [
    "message = 'The dates are 12-30-2022, 23-10-2023, and 2024/02/23'"
   ]
  },
  {
   "cell_type": "code",
   "execution_count": 14,
   "id": "f6708102-5e52-430a-9613-ddce9cc48b72",
   "metadata": {
    "tags": []
   },
   "outputs": [
    {
     "data": {
      "text/plain": [
       "['12-30-2022', '23-10-2023']"
      ]
     },
     "execution_count": 14,
     "metadata": {},
     "output_type": "execute_result"
    }
   ],
   "source": [
    "dates = re.findall('\\d+-\\d{2}-\\d+', message)\n",
    "dates"
   ]
  },
  {
   "cell_type": "code",
   "execution_count": 15,
   "id": "869af757-d858-4400-b226-995a97bd715b",
   "metadata": {
    "tags": []
   },
   "outputs": [
    {
     "data": {
      "text/plain": [
       "['12-30-2022', '23-10-2023', '2024/02/23']"
      ]
     },
     "execution_count": 15,
     "metadata": {},
     "output_type": "execute_result"
    }
   ],
   "source": [
    "dates = re.findall('\\d+[-\\/]\\d+[-\\/]\\d+', message)\n",
    "dates"
   ]
  },
  {
   "cell_type": "code",
   "execution_count": 16,
   "id": "0d2a0ad1-4102-4cb3-be25-c9c23b26bbf1",
   "metadata": {
    "tags": []
   },
   "outputs": [],
   "source": [
    "import requests \n",
    "\n",
    "# url = 'https://archive.ics.uci.edu/dataset/109/wine'\n",
    "\n",
    "# response = requests.get(url)\n",
    "\n",
    "# df = pd.read_csv(url)"
   ]
  },
  {
   "cell_type": "code",
   "execution_count": 17,
   "id": "1c1d0d04-966d-4daf-a033-252805727362",
   "metadata": {
    "tags": []
   },
   "outputs": [
    {
     "data": {
      "text/html": [
       "<div>\n",
       "<style scoped>\n",
       "    .dataframe tbody tr th:only-of-type {\n",
       "        vertical-align: middle;\n",
       "    }\n",
       "\n",
       "    .dataframe tbody tr th {\n",
       "        vertical-align: top;\n",
       "    }\n",
       "\n",
       "    .dataframe thead th {\n",
       "        text-align: right;\n",
       "    }\n",
       "</style>\n",
       "<table border=\"1\" class=\"dataframe\">\n",
       "  <thead>\n",
       "    <tr style=\"text-align: right;\">\n",
       "      <th></th>\n",
       "      <th>text</th>\n",
       "      <th>numbers</th>\n",
       "    </tr>\n",
       "  </thead>\n",
       "  <tbody>\n",
       "    <tr>\n",
       "      <th>0</th>\n",
       "      <td>apples 100 500</td>\n",
       "      <td>100</td>\n",
       "    </tr>\n",
       "    <tr>\n",
       "      <th>1</th>\n",
       "      <td>banana 200</td>\n",
       "      <td>200</td>\n",
       "    </tr>\n",
       "    <tr>\n",
       "      <th>2</th>\n",
       "      <td>cherry 150</td>\n",
       "      <td>150</td>\n",
       "    </tr>\n",
       "  </tbody>\n",
       "</table>\n",
       "</div>"
      ],
      "text/plain": [
       "             text numbers\n",
       "0  apples 100 500     100\n",
       "1      banana 200     200\n",
       "2      cherry 150     150"
      ]
     },
     "execution_count": 17,
     "metadata": {},
     "output_type": "execute_result"
    }
   ],
   "source": [
    "df"
   ]
  },
  {
   "cell_type": "code",
   "execution_count": 18,
   "id": "b951a160-4c09-40c8-be96-c6614b30bd70",
   "metadata": {
    "tags": []
   },
   "outputs": [],
   "source": [
    "from bs4 import BeautifulSoup"
   ]
  },
  {
   "cell_type": "code",
   "execution_count": 19,
   "id": "a0d0e1c4-5783-4545-93a0-f2ad9254700b",
   "metadata": {
    "tags": []
   },
   "outputs": [
    {
     "name": "stdout",
     "output_type": "stream",
     "text": [
      "          Variable Name     Role         Type  Demographic  Description  \\\n",
      "0                 class   Target  Categorical          NaN          NaN   \n",
      "1               Alcohol  Feature   Continuous          NaN          NaN   \n",
      "2             Malicacid  Feature   Continuous          NaN          NaN   \n",
      "3                   Ash  Feature   Continuous          NaN          NaN   \n",
      "4     Alcalinity_of_ash  Feature   Continuous          NaN          NaN   \n",
      "5             Magnesium  Feature      Integer          NaN          NaN   \n",
      "6         Total_phenols  Feature   Continuous          NaN          NaN   \n",
      "7            Flavanoids  Feature   Continuous          NaN          NaN   \n",
      "8  Nonflavanoid_phenols  Feature   Continuous          NaN          NaN   \n",
      "9       Proanthocyanins  Feature   Continuous          NaN          NaN   \n",
      "\n",
      "   Units Missing Values  \n",
      "0    NaN             no  \n",
      "1    NaN             no  \n",
      "2    NaN             no  \n",
      "3    NaN             no  \n",
      "4    NaN             no  \n",
      "5    NaN             no  \n",
      "6    NaN             no  \n",
      "7    NaN             no  \n",
      "8    NaN             no  \n",
      "9    NaN             no  \n"
     ]
    }
   ],
   "source": [
    "url = 'https://archive.ics.uci.edu/dataset/109/wine'\n",
    "\n",
    "response = requests.get(url)\n",
    "\n",
    "# check if req is successful \n",
    "if response.status_code == 200:\n",
    "    soup = BeautifulSoup(response.content, 'html.parser')\n",
    "    \n",
    "    table = soup.find('table', class_ = 'my-4 table w-full')\n",
    "    \n",
    "if table:\n",
    "    df_=pd.read_html(str(table))[0]\n",
    "    print(df_)\n",
    "else:\n",
    "    print('table not found')\n",
    "    "
   ]
  },
  {
   "cell_type": "code",
   "execution_count": 20,
   "id": "a844c495-7427-4583-b0b9-471dea41611c",
   "metadata": {
    "tags": []
   },
   "outputs": [
    {
     "data": {
      "text/plain": [
       "0                   class\n",
       "1                 Alcohol\n",
       "2               Malicacid\n",
       "3                     Ash\n",
       "4       Alcalinity_of_ash\n",
       "5               Magnesium\n",
       "6           Total_phenols\n",
       "7              Flavanoids\n",
       "8    Nonflavanoid_phenols\n",
       "9         Proanthocyanins\n",
       "Name: Variable Name, dtype: object"
      ]
     },
     "execution_count": 20,
     "metadata": {},
     "output_type": "execute_result"
    }
   ],
   "source": [
    "df_['Variable Name']"
   ]
  },
  {
   "cell_type": "code",
   "execution_count": 21,
   "id": "802f5f7a-740a-4d56-b129-93cf189176c0",
   "metadata": {
    "tags": []
   },
   "outputs": [
    {
     "name": "stdout",
     "output_type": "stream",
     "text": [
      "  Label                                            Message\n",
      "0   ham  Go until jurong point, crazy.. Available only ...\n",
      "1   ham                      Ok lar... Joking wif u oni...\n",
      "2  spam  Free entry in 2 a wkly comp to win FA Cup fina...\n",
      "3   ham  U dun say so early hor... U c already then say...\n",
      "4   ham  Nah I don't think he goes to usf, he lives aro...\n"
     ]
    }
   ],
   "source": [
    "import zipfile\n",
    "from io import BytesIO\n",
    "\n",
    "# URL of the SMS Spam Collection dataset\n",
    "url = \"https://archive.ics.uci.edu/ml/machine-learning-databases/00228/smsspamcollection.zip\"\n",
    "\n",
    "# Fetch the ZIP file using requests\n",
    "response = requests.get(url)\n",
    "\n",
    "# Open the received content as a ZIP file\n",
    "with zipfile.ZipFile(BytesIO(response.content)) as z:\n",
    "    with z.open('SMSSpamCollection') as f:\n",
    "        # Read the SMS Spam Collection file into pandas DataFrame\n",
    "        sms_df = pd.read_csv(f, sep='\\t', names=['Label', 'Message'])\n",
    "\n",
    "# Display the first few rows of the dataset\n",
    "print(sms_df.head())\n",
    "\n",
    "# Optionally, save the dataset to a CSV file\n",
    "sms_df.to_csv(\"sms_spam_collection.csv\", index=False)"
   ]
  },
  {
   "cell_type": "code",
   "execution_count": 22,
   "id": "cb7e2427-45cd-4174-ab19-acd728cc7ab9",
   "metadata": {
    "tags": []
   },
   "outputs": [],
   "source": [
    "spam = sms_df[sms_df.Label == 'spam']"
   ]
  },
  {
   "cell_type": "code",
   "execution_count": 23,
   "id": "56b8594d-2602-4b47-82ef-2d19d2548c5a",
   "metadata": {
    "tags": []
   },
   "outputs": [
    {
     "data": {
      "text/html": [
       "<div>\n",
       "<style scoped>\n",
       "    .dataframe tbody tr th:only-of-type {\n",
       "        vertical-align: middle;\n",
       "    }\n",
       "\n",
       "    .dataframe tbody tr th {\n",
       "        vertical-align: top;\n",
       "    }\n",
       "\n",
       "    .dataframe thead th {\n",
       "        text-align: right;\n",
       "    }\n",
       "</style>\n",
       "<table border=\"1\" class=\"dataframe\">\n",
       "  <thead>\n",
       "    <tr style=\"text-align: right;\">\n",
       "      <th></th>\n",
       "      <th>Label</th>\n",
       "      <th>Message</th>\n",
       "      <th>Number</th>\n",
       "    </tr>\n",
       "  </thead>\n",
       "  <tbody>\n",
       "    <tr>\n",
       "      <th>0</th>\n",
       "      <td>ham</td>\n",
       "      <td>Go until jurong point, crazy.. Available only ...</td>\n",
       "      <td>None</td>\n",
       "    </tr>\n",
       "    <tr>\n",
       "      <th>1</th>\n",
       "      <td>ham</td>\n",
       "      <td>Ok lar... Joking wif u oni...</td>\n",
       "      <td>None</td>\n",
       "    </tr>\n",
       "    <tr>\n",
       "      <th>2</th>\n",
       "      <td>spam</td>\n",
       "      <td>Free entry in 2 a wkly comp to win FA Cup fina...</td>\n",
       "      <td>None</td>\n",
       "    </tr>\n",
       "    <tr>\n",
       "      <th>3</th>\n",
       "      <td>ham</td>\n",
       "      <td>U dun say so early hor... U c already then say...</td>\n",
       "      <td>None</td>\n",
       "    </tr>\n",
       "    <tr>\n",
       "      <th>4</th>\n",
       "      <td>ham</td>\n",
       "      <td>Nah I don't think he goes to usf, he lives aro...</td>\n",
       "      <td>None</td>\n",
       "    </tr>\n",
       "    <tr>\n",
       "      <th>...</th>\n",
       "      <td>...</td>\n",
       "      <td>...</td>\n",
       "      <td>...</td>\n",
       "    </tr>\n",
       "    <tr>\n",
       "      <th>5567</th>\n",
       "      <td>spam</td>\n",
       "      <td>This is the 2nd time we have tried 2 contact u...</td>\n",
       "      <td>None</td>\n",
       "    </tr>\n",
       "    <tr>\n",
       "      <th>5568</th>\n",
       "      <td>ham</td>\n",
       "      <td>Will ü b going to esplanade fr home?</td>\n",
       "      <td>None</td>\n",
       "    </tr>\n",
       "    <tr>\n",
       "      <th>5569</th>\n",
       "      <td>ham</td>\n",
       "      <td>Pity, * was in mood for that. So...any other s...</td>\n",
       "      <td>None</td>\n",
       "    </tr>\n",
       "    <tr>\n",
       "      <th>5570</th>\n",
       "      <td>ham</td>\n",
       "      <td>The guy did some bitching but I acted like i'd...</td>\n",
       "      <td>None</td>\n",
       "    </tr>\n",
       "    <tr>\n",
       "      <th>5571</th>\n",
       "      <td>ham</td>\n",
       "      <td>Rofl. Its true to its name</td>\n",
       "      <td>None</td>\n",
       "    </tr>\n",
       "  </tbody>\n",
       "</table>\n",
       "<p>5572 rows × 3 columns</p>\n",
       "</div>"
      ],
      "text/plain": [
       "     Label                                            Message Number\n",
       "0      ham  Go until jurong point, crazy.. Available only ...   None\n",
       "1      ham                      Ok lar... Joking wif u oni...   None\n",
       "2     spam  Free entry in 2 a wkly comp to win FA Cup fina...   None\n",
       "3      ham  U dun say so early hor... U c already then say...   None\n",
       "4      ham  Nah I don't think he goes to usf, he lives aro...   None\n",
       "...    ...                                                ...    ...\n",
       "5567  spam  This is the 2nd time we have tried 2 contact u...   None\n",
       "5568   ham               Will ü b going to esplanade fr home?   None\n",
       "5569   ham  Pity, * was in mood for that. So...any other s...   None\n",
       "5570   ham  The guy did some bitching but I acted like i'd...   None\n",
       "5571   ham                         Rofl. Its true to its name   None\n",
       "\n",
       "[5572 rows x 3 columns]"
      ]
     },
     "execution_count": 23,
     "metadata": {},
     "output_type": "execute_result"
    }
   ],
   "source": [
    "sms_df['Number'] = None\n",
    "sms_df"
   ]
  },
  {
   "cell_type": "code",
   "execution_count": 24,
   "id": "610dd646-71fb-4f0c-aa10-5ef3e8f1e6da",
   "metadata": {
    "tags": []
   },
   "outputs": [
    {
     "data": {
      "text/html": [
       "<div>\n",
       "<style scoped>\n",
       "    .dataframe tbody tr th:only-of-type {\n",
       "        vertical-align: middle;\n",
       "    }\n",
       "\n",
       "    .dataframe tbody tr th {\n",
       "        vertical-align: top;\n",
       "    }\n",
       "\n",
       "    .dataframe thead th {\n",
       "        text-align: right;\n",
       "    }\n",
       "</style>\n",
       "<table border=\"1\" class=\"dataframe\">\n",
       "  <thead>\n",
       "    <tr style=\"text-align: right;\">\n",
       "      <th></th>\n",
       "      <th>Label</th>\n",
       "      <th>Message</th>\n",
       "    </tr>\n",
       "  </thead>\n",
       "  <tbody>\n",
       "    <tr>\n",
       "      <th>2</th>\n",
       "      <td>spam</td>\n",
       "      <td>Free entry in 2 a wkly comp to win FA Cup fina...</td>\n",
       "    </tr>\n",
       "    <tr>\n",
       "      <th>5</th>\n",
       "      <td>spam</td>\n",
       "      <td>FreeMsg Hey there darling it's been 3 week's n...</td>\n",
       "    </tr>\n",
       "    <tr>\n",
       "      <th>8</th>\n",
       "      <td>spam</td>\n",
       "      <td>WINNER!! As a valued network customer you have...</td>\n",
       "    </tr>\n",
       "    <tr>\n",
       "      <th>9</th>\n",
       "      <td>spam</td>\n",
       "      <td>Had your mobile 11 months or more? U R entitle...</td>\n",
       "    </tr>\n",
       "    <tr>\n",
       "      <th>11</th>\n",
       "      <td>spam</td>\n",
       "      <td>SIX chances to win CASH! From 100 to 20,000 po...</td>\n",
       "    </tr>\n",
       "    <tr>\n",
       "      <th>...</th>\n",
       "      <td>...</td>\n",
       "      <td>...</td>\n",
       "    </tr>\n",
       "    <tr>\n",
       "      <th>5537</th>\n",
       "      <td>spam</td>\n",
       "      <td>Want explicit SEX in 30 secs? Ring 02073162414...</td>\n",
       "    </tr>\n",
       "    <tr>\n",
       "      <th>5540</th>\n",
       "      <td>spam</td>\n",
       "      <td>ASKED 3MOBILE IF 0870 CHATLINES INCLU IN FREE ...</td>\n",
       "    </tr>\n",
       "    <tr>\n",
       "      <th>5547</th>\n",
       "      <td>spam</td>\n",
       "      <td>Had your contract mobile 11 Mnths? Latest Moto...</td>\n",
       "    </tr>\n",
       "    <tr>\n",
       "      <th>5566</th>\n",
       "      <td>spam</td>\n",
       "      <td>REMINDER FROM O2: To get 2.50 pounds free call...</td>\n",
       "    </tr>\n",
       "    <tr>\n",
       "      <th>5567</th>\n",
       "      <td>spam</td>\n",
       "      <td>This is the 2nd time we have tried 2 contact u...</td>\n",
       "    </tr>\n",
       "  </tbody>\n",
       "</table>\n",
       "<p>747 rows × 2 columns</p>\n",
       "</div>"
      ],
      "text/plain": [
       "     Label                                            Message\n",
       "2     spam  Free entry in 2 a wkly comp to win FA Cup fina...\n",
       "5     spam  FreeMsg Hey there darling it's been 3 week's n...\n",
       "8     spam  WINNER!! As a valued network customer you have...\n",
       "9     spam  Had your mobile 11 months or more? U R entitle...\n",
       "11    spam  SIX chances to win CASH! From 100 to 20,000 po...\n",
       "...    ...                                                ...\n",
       "5537  spam  Want explicit SEX in 30 secs? Ring 02073162414...\n",
       "5540  spam  ASKED 3MOBILE IF 0870 CHATLINES INCLU IN FREE ...\n",
       "5547  spam  Had your contract mobile 11 Mnths? Latest Moto...\n",
       "5566  spam  REMINDER FROM O2: To get 2.50 pounds free call...\n",
       "5567  spam  This is the 2nd time we have tried 2 contact u...\n",
       "\n",
       "[747 rows x 2 columns]"
      ]
     },
     "execution_count": 24,
     "metadata": {},
     "output_type": "execute_result"
    }
   ],
   "source": [
    "spam"
   ]
  },
  {
   "cell_type": "code",
   "execution_count": 26,
   "id": "291e454d-96d3-4f79-838d-89b1ca8f1ce7",
   "metadata": {
    "tags": []
   },
   "outputs": [],
   "source": [
    "# re.findall('\\d{9}', spam['Message'])"
   ]
  },
  {
   "cell_type": "code",
   "execution_count": 27,
   "id": "4000f2dc-4c6a-49ec-9732-48e8dc9b8d44",
   "metadata": {
    "tags": []
   },
   "outputs": [
    {
     "name": "stderr",
     "output_type": "stream",
     "text": [
      "C:\\Users\\zacha\\AppData\\Local\\Temp\\ipykernel_25220\\2185341392.py:1: SettingWithCopyWarning: \n",
      "A value is trying to be set on a copy of a slice from a DataFrame.\n",
      "Try using .loc[row_indexer,col_indexer] = value instead\n",
      "\n",
      "See the caveats in the documentation: https://pandas.pydata.org/pandas-docs/stable/user_guide/indexing.html#returning-a-view-versus-a-copy\n",
      "  spam['Number'] = spam['Message'].str.extract('(\\d{5,})')\n"
     ]
    }
   ],
   "source": [
    "spam['Number'] = spam['Message'].str.extract('(\\d{5,})')"
   ]
  },
  {
   "cell_type": "code",
   "execution_count": 28,
   "id": "821b02c5-9c6d-4627-86ef-16ea22bf54e8",
   "metadata": {
    "tags": []
   },
   "outputs": [],
   "source": [
    "email_pattern = '([A-Za-z0-9]+[.-_]*[A-Za-z0-9]+@[A-Za-z0-9-]+\\.[A-Z|a-z]{2,}+)' "
   ]
  },
  {
   "cell_type": "code",
   "execution_count": 29,
   "id": "d00f11e6-6026-44a2-99da-919f6eb52a2d",
   "metadata": {
    "tags": []
   },
   "outputs": [
    {
     "data": {
      "text/html": [
       "<div>\n",
       "<style scoped>\n",
       "    .dataframe tbody tr th:only-of-type {\n",
       "        vertical-align: middle;\n",
       "    }\n",
       "\n",
       "    .dataframe tbody tr th {\n",
       "        vertical-align: top;\n",
       "    }\n",
       "\n",
       "    .dataframe thead th {\n",
       "        text-align: right;\n",
       "    }\n",
       "</style>\n",
       "<table border=\"1\" class=\"dataframe\">\n",
       "  <thead>\n",
       "    <tr style=\"text-align: right;\">\n",
       "      <th></th>\n",
       "      <th></th>\n",
       "      <th>0</th>\n",
       "    </tr>\n",
       "    <tr>\n",
       "      <th></th>\n",
       "      <th>match</th>\n",
       "      <th></th>\n",
       "    </tr>\n",
       "  </thead>\n",
       "  <tbody>\n",
       "    <tr>\n",
       "      <th>1613</th>\n",
       "      <th>0</th>\n",
       "      <td>info@ringtoneking.co</td>\n",
       "    </tr>\n",
       "    <tr>\n",
       "      <th>2313</th>\n",
       "      <th>0</th>\n",
       "      <td>tddnewsletter@emc1.co</td>\n",
       "    </tr>\n",
       "    <tr>\n",
       "      <th>2548</th>\n",
       "      <th>0</th>\n",
       "      <td>info@txt82228.co</td>\n",
       "    </tr>\n",
       "    <tr>\n",
       "      <th>3501</th>\n",
       "      <th>0</th>\n",
       "      <td>Dorothy@kiefer.com</td>\n",
       "    </tr>\n",
       "    <tr>\n",
       "      <th>4906</th>\n",
       "      <th>0</th>\n",
       "      <td>ticket@kiosk.Valid</td>\n",
       "    </tr>\n",
       "    <tr>\n",
       "      <th>5102</th>\n",
       "      <th>0</th>\n",
       "      <td>customersqueries@netvision.uk</td>\n",
       "    </tr>\n",
       "  </tbody>\n",
       "</table>\n",
       "</div>"
      ],
      "text/plain": [
       "                                        0\n",
       "     match                               \n",
       "1613 0               info@ringtoneking.co\n",
       "2313 0              tddnewsletter@emc1.co\n",
       "2548 0                   info@txt82228.co\n",
       "3501 0                 Dorothy@kiefer.com\n",
       "4906 0                 ticket@kiosk.Valid\n",
       "5102 0      customersqueries@netvision.uk"
      ]
     },
     "execution_count": 29,
     "metadata": {},
     "output_type": "execute_result"
    }
   ],
   "source": [
    "spam['Message'].str.extractall(email_pattern)"
   ]
  },
  {
   "cell_type": "code",
   "execution_count": 30,
   "id": "f710c1e2-eb63-48c1-ac5b-39c464ff04e7",
   "metadata": {
    "tags": []
   },
   "outputs": [
    {
     "name": "stderr",
     "output_type": "stream",
     "text": [
      "C:\\Users\\zacha\\AppData\\Local\\Temp\\ipykernel_25220\\618215831.py:2: SettingWithCopyWarning: \n",
      "A value is trying to be set on a copy of a slice from a DataFrame.\n",
      "Try using .loc[row_indexer,col_indexer] = value instead\n",
      "\n",
      "See the caveats in the documentation: https://pandas.pydata.org/pandas-docs/stable/user_guide/indexing.html#returning-a-view-versus-a-copy\n",
      "  spam['Email'] = spam['Message'].str.extractall(email_pattern).reset_index(drop=True)[0]\n"
     ]
    }
   ],
   "source": [
    "# extracts all emails from spam \n",
    "spam['Email'] = spam['Message'].str.extractall(email_pattern).reset_index(drop=True)[0]"
   ]
  },
  {
   "cell_type": "code",
   "execution_count": 31,
   "id": "492b4b9f-d1c0-47cd-bbca-db10e55ff5dc",
   "metadata": {
    "tags": []
   },
   "outputs": [
    {
     "data": {
      "text/html": [
       "<div>\n",
       "<style scoped>\n",
       "    .dataframe tbody tr th:only-of-type {\n",
       "        vertical-align: middle;\n",
       "    }\n",
       "\n",
       "    .dataframe tbody tr th {\n",
       "        vertical-align: top;\n",
       "    }\n",
       "\n",
       "    .dataframe thead th {\n",
       "        text-align: right;\n",
       "    }\n",
       "</style>\n",
       "<table border=\"1\" class=\"dataframe\">\n",
       "  <thead>\n",
       "    <tr style=\"text-align: right;\">\n",
       "      <th></th>\n",
       "      <th></th>\n",
       "      <th>0</th>\n",
       "    </tr>\n",
       "    <tr>\n",
       "      <th></th>\n",
       "      <th>match</th>\n",
       "      <th></th>\n",
       "    </tr>\n",
       "  </thead>\n",
       "  <tbody>\n",
       "    <tr>\n",
       "      <th>1613</th>\n",
       "      <th>0</th>\n",
       "      <td>info@ringtoneking.co</td>\n",
       "    </tr>\n",
       "    <tr>\n",
       "      <th>2313</th>\n",
       "      <th>0</th>\n",
       "      <td>tddnewsletter@emc1.co</td>\n",
       "    </tr>\n",
       "    <tr>\n",
       "      <th>2548</th>\n",
       "      <th>0</th>\n",
       "      <td>info@txt82228.co</td>\n",
       "    </tr>\n",
       "    <tr>\n",
       "      <th>3501</th>\n",
       "      <th>0</th>\n",
       "      <td>Dorothy@kiefer.com</td>\n",
       "    </tr>\n",
       "    <tr>\n",
       "      <th>4906</th>\n",
       "      <th>0</th>\n",
       "      <td>ticket@kiosk.Valid</td>\n",
       "    </tr>\n",
       "    <tr>\n",
       "      <th>5102</th>\n",
       "      <th>0</th>\n",
       "      <td>customersqueries@netvision.uk</td>\n",
       "    </tr>\n",
       "  </tbody>\n",
       "</table>\n",
       "</div>"
      ],
      "text/plain": [
       "                                        0\n",
       "     match                               \n",
       "1613 0               info@ringtoneking.co\n",
       "2313 0              tddnewsletter@emc1.co\n",
       "2548 0                   info@txt82228.co\n",
       "3501 0                 Dorothy@kiefer.com\n",
       "4906 0                 ticket@kiosk.Valid\n",
       "5102 0      customersqueries@netvision.uk"
      ]
     },
     "execution_count": 31,
     "metadata": {},
     "output_type": "execute_result"
    }
   ],
   "source": [
    "# extracts websites\n",
    "spam['Message'].str.extractall('([A-Za-z0-9]+[.-_]*[A-Za-z0-9]+@[A-Za-z0-9-]+\\.[A-Z|a-z]{2,}+)')"
   ]
  },
  {
   "cell_type": "code",
   "execution_count": 32,
   "id": "669c72b9-1253-47e0-909b-5b617469abbd",
   "metadata": {},
   "outputs": [
    {
     "data": {
      "text/plain": [
       "2669    Wanna get laid 2nite? Want real Dogging locati...\n",
       "3864    Oh my god! I've found your number again! I'm s...\n",
       "1350    FREE2DAY sexy St George's Day pic of Jordan!Tx...\n",
       "1993    Free tones Hope you enjoyed your new content. ...\n",
       "4249    accordingly. I repeat, just text the word ok o...\n",
       "264     Hey I am really horny want to chat or see me n...\n",
       "784     You have an important customer service announc...\n",
       "1893    CALL 09090900040 & LISTEN TO EXTREME DIRTY LIV...\n",
       "869     Hello. We need some posh birds and chaps to us...\n",
       "4154    URGENT!! Your 4* Costa Del Sol Holiday or £500...\n",
       "Name: Message, dtype: object"
      ]
     },
     "execution_count": 32,
     "metadata": {},
     "output_type": "execute_result"
    }
   ],
   "source": [
    "spam['Message'].sample(10)"
   ]
  },
  {
   "cell_type": "code",
   "execution_count": 33,
   "id": "e4bb3635-b1aa-4fa7-b62f-7b6a737d56d3",
   "metadata": {
    "tags": []
   },
   "outputs": [
    {
     "data": {
      "text/html": [
       "<div>\n",
       "<style scoped>\n",
       "    .dataframe tbody tr th:only-of-type {\n",
       "        vertical-align: middle;\n",
       "    }\n",
       "\n",
       "    .dataframe tbody tr th {\n",
       "        vertical-align: top;\n",
       "    }\n",
       "\n",
       "    .dataframe thead th {\n",
       "        text-align: right;\n",
       "    }\n",
       "</style>\n",
       "<table border=\"1\" class=\"dataframe\">\n",
       "  <thead>\n",
       "    <tr style=\"text-align: right;\">\n",
       "      <th></th>\n",
       "      <th>Label</th>\n",
       "      <th>Message</th>\n",
       "      <th>Number</th>\n",
       "      <th>Email</th>\n",
       "    </tr>\n",
       "  </thead>\n",
       "  <tbody>\n",
       "    <tr>\n",
       "      <th>3631</th>\n",
       "      <td>spam</td>\n",
       "      <td>Get the official ENGLAND poly ringtone or colo...</td>\n",
       "      <td>84199</td>\n",
       "      <td>NaN</td>\n",
       "    </tr>\n",
       "  </tbody>\n",
       "</table>\n",
       "</div>"
      ],
      "text/plain": [
       "     Label                                            Message Number Email\n",
       "3631  spam  Get the official ENGLAND poly ringtone or colo...  84199   NaN"
      ]
     },
     "execution_count": 33,
     "metadata": {},
     "output_type": "execute_result"
    }
   ],
   "source": [
    "spam.sample()"
   ]
  },
  {
   "cell_type": "code",
   "execution_count": 34,
   "id": "ee931eda-a686-4b18-b7fa-9ac8357de75f",
   "metadata": {
    "tags": []
   },
   "outputs": [
    {
     "data": {
      "text/html": [
       "<div>\n",
       "<style scoped>\n",
       "    .dataframe tbody tr th:only-of-type {\n",
       "        vertical-align: middle;\n",
       "    }\n",
       "\n",
       "    .dataframe tbody tr th {\n",
       "        vertical-align: top;\n",
       "    }\n",
       "\n",
       "    .dataframe thead th {\n",
       "        text-align: right;\n",
       "    }\n",
       "</style>\n",
       "<table border=\"1\" class=\"dataframe\">\n",
       "  <thead>\n",
       "    <tr style=\"text-align: right;\">\n",
       "      <th></th>\n",
       "      <th>Label</th>\n",
       "      <th>Message</th>\n",
       "      <th>Number</th>\n",
       "      <th>Email</th>\n",
       "    </tr>\n",
       "  </thead>\n",
       "  <tbody>\n",
       "    <tr>\n",
       "      <th>2818</th>\n",
       "      <td>spam</td>\n",
       "      <td>Gr8 Poly tones 4 ALL mobs direct 2u rply with ...</td>\n",
       "      <td>NaN</td>\n",
       "      <td>NaN</td>\n",
       "    </tr>\n",
       "  </tbody>\n",
       "</table>\n",
       "</div>"
      ],
      "text/plain": [
       "     Label                                            Message Number Email\n",
       "2818  spam  Gr8 Poly tones 4 ALL mobs direct 2u rply with ...    NaN   NaN"
      ]
     },
     "execution_count": 34,
     "metadata": {},
     "output_type": "execute_result"
    }
   ],
   "source": [
    "spam.sample()"
   ]
  },
  {
   "cell_type": "code",
   "execution_count": 35,
   "id": "dcd42048-9bf2-4487-93bb-80210d7036a6",
   "metadata": {
    "tags": []
   },
   "outputs": [],
   "source": [
    "wesbite_pattern = '([w]{3}\\.[A-Za-z0-9-]+\\.[A-Z|a-z]{2,})'"
   ]
  },
  {
   "cell_type": "code",
   "execution_count": 36,
   "id": "0ff78029-eac8-4440-bbac-e354a80c054e",
   "metadata": {
    "tags": []
   },
   "outputs": [
    {
     "data": {
      "text/html": [
       "<div>\n",
       "<style scoped>\n",
       "    .dataframe tbody tr th:only-of-type {\n",
       "        vertical-align: middle;\n",
       "    }\n",
       "\n",
       "    .dataframe tbody tr th {\n",
       "        vertical-align: top;\n",
       "    }\n",
       "\n",
       "    .dataframe thead th {\n",
       "        text-align: right;\n",
       "    }\n",
       "</style>\n",
       "<table border=\"1\" class=\"dataframe\">\n",
       "  <thead>\n",
       "    <tr style=\"text-align: right;\">\n",
       "      <th></th>\n",
       "      <th></th>\n",
       "      <th>0</th>\n",
       "    </tr>\n",
       "    <tr>\n",
       "      <th></th>\n",
       "      <th>match</th>\n",
       "      <th></th>\n",
       "    </tr>\n",
       "  </thead>\n",
       "  <tbody>\n",
       "    <tr>\n",
       "      <th>12</th>\n",
       "      <th>0</th>\n",
       "      <td>www.dbuk.net</td>\n",
       "    </tr>\n",
       "    <tr>\n",
       "      <th>164</th>\n",
       "      <th>0</th>\n",
       "      <td>www.SMS.ac</td>\n",
       "    </tr>\n",
       "    <tr>\n",
       "      <th>191</th>\n",
       "      <th>0</th>\n",
       "      <td>www.areyouunique.co</td>\n",
       "    </tr>\n",
       "    <tr>\n",
       "      <th>225</th>\n",
       "      <th>0</th>\n",
       "      <td>www.4-tc.biz</td>\n",
       "    </tr>\n",
       "    <tr>\n",
       "      <th>250</th>\n",
       "      <th>0</th>\n",
       "      <td>www.Ldew.com</td>\n",
       "    </tr>\n",
       "    <tr>\n",
       "      <th>...</th>\n",
       "      <th>...</th>\n",
       "      <td>...</td>\n",
       "    </tr>\n",
       "    <tr>\n",
       "      <th>5294</th>\n",
       "      <th>0</th>\n",
       "      <td>www.Ldew.com</td>\n",
       "    </tr>\n",
       "    <tr>\n",
       "      <th>5378</th>\n",
       "      <th>0</th>\n",
       "      <td>www.gr8prizes.com</td>\n",
       "    </tr>\n",
       "    <tr>\n",
       "      <th>5456</th>\n",
       "      <th>0</th>\n",
       "      <td>www.shortbreaks.org</td>\n",
       "    </tr>\n",
       "    <tr>\n",
       "      <th>5462</th>\n",
       "      <th>0</th>\n",
       "      <td>www.gamb.tv</td>\n",
       "    </tr>\n",
       "    <tr>\n",
       "      <th>5497</th>\n",
       "      <th>0</th>\n",
       "      <td>www.comuk.net</td>\n",
       "    </tr>\n",
       "  </tbody>\n",
       "</table>\n",
       "<p>96 rows × 1 columns</p>\n",
       "</div>"
      ],
      "text/plain": [
       "                              0\n",
       "     match                     \n",
       "12   0             www.dbuk.net\n",
       "164  0               www.SMS.ac\n",
       "191  0      www.areyouunique.co\n",
       "225  0             www.4-tc.biz\n",
       "250  0             www.Ldew.com\n",
       "...                         ...\n",
       "5294 0             www.Ldew.com\n",
       "5378 0        www.gr8prizes.com\n",
       "5456 0      www.shortbreaks.org\n",
       "5462 0              www.gamb.tv\n",
       "5497 0            www.comuk.net\n",
       "\n",
       "[96 rows x 1 columns]"
      ]
     },
     "execution_count": 36,
     "metadata": {},
     "output_type": "execute_result"
    }
   ],
   "source": [
    "spam['Message'].str.extractall(wesbite_pattern)"
   ]
  },
  {
   "cell_type": "code",
   "execution_count": 37,
   "id": "fa097ce9-9200-4b4f-b48a-1cc6c551384b",
   "metadata": {
    "tags": []
   },
   "outputs": [
    {
     "data": {
      "text/html": [
       "<div>\n",
       "<style scoped>\n",
       "    .dataframe tbody tr th:only-of-type {\n",
       "        vertical-align: middle;\n",
       "    }\n",
       "\n",
       "    .dataframe tbody tr th {\n",
       "        vertical-align: top;\n",
       "    }\n",
       "\n",
       "    .dataframe thead th {\n",
       "        text-align: right;\n",
       "    }\n",
       "</style>\n",
       "<table border=\"1\" class=\"dataframe\">\n",
       "  <thead>\n",
       "    <tr style=\"text-align: right;\">\n",
       "      <th></th>\n",
       "      <th>Label</th>\n",
       "      <th>Message</th>\n",
       "      <th>Number</th>\n",
       "      <th>Email</th>\n",
       "    </tr>\n",
       "  </thead>\n",
       "  <tbody>\n",
       "    <tr>\n",
       "      <th>4169</th>\n",
       "      <td>spam</td>\n",
       "      <td>Congrats! Nokia 3650 video camera phone is you...</td>\n",
       "      <td>09066382422</td>\n",
       "      <td>NaN</td>\n",
       "    </tr>\n",
       "    <tr>\n",
       "      <th>4991</th>\n",
       "      <td>spam</td>\n",
       "      <td>Phony £350 award - Todays Voda numbers ending ...</td>\n",
       "      <td>08712300220</td>\n",
       "      <td>NaN</td>\n",
       "    </tr>\n",
       "    <tr>\n",
       "      <th>5567</th>\n",
       "      <td>spam</td>\n",
       "      <td>This is the 2nd time we have tried 2 contact u...</td>\n",
       "      <td>087187272008</td>\n",
       "      <td>NaN</td>\n",
       "    </tr>\n",
       "    <tr>\n",
       "      <th>2312</th>\n",
       "      <td>spam</td>\n",
       "      <td>Congratulations! Thanks to a good friend U hav...</td>\n",
       "      <td>08718726971</td>\n",
       "      <td>NaN</td>\n",
       "    </tr>\n",
       "    <tr>\n",
       "      <th>2113</th>\n",
       "      <td>spam</td>\n",
       "      <td>You are a winner you have been specially selec...</td>\n",
       "      <td>087123002209</td>\n",
       "      <td>NaN</td>\n",
       "    </tr>\n",
       "    <tr>\n",
       "      <th>1227</th>\n",
       "      <td>spam</td>\n",
       "      <td>Reply with your name and address and YOU WILL ...</td>\n",
       "      <td>08700435505150</td>\n",
       "      <td>NaN</td>\n",
       "    </tr>\n",
       "    <tr>\n",
       "      <th>4258</th>\n",
       "      <td>spam</td>\n",
       "      <td>important information 4 orange user . today is...</td>\n",
       "      <td>NaN</td>\n",
       "      <td>NaN</td>\n",
       "    </tr>\n",
       "    <tr>\n",
       "      <th>4896</th>\n",
       "      <td>spam</td>\n",
       "      <td>Want the latest Video handset? 750 anytime any...</td>\n",
       "      <td>08000930705</td>\n",
       "      <td>NaN</td>\n",
       "    </tr>\n",
       "    <tr>\n",
       "      <th>881</th>\n",
       "      <td>spam</td>\n",
       "      <td>Reminder: You have not downloaded the content ...</td>\n",
       "      <td>NaN</td>\n",
       "      <td>NaN</td>\n",
       "    </tr>\n",
       "    <tr>\n",
       "      <th>3229</th>\n",
       "      <td>spam</td>\n",
       "      <td>SIX chances to win CASH! From 100 to 20,000 po...</td>\n",
       "      <td>87575</td>\n",
       "      <td>NaN</td>\n",
       "    </tr>\n",
       "  </tbody>\n",
       "</table>\n",
       "</div>"
      ],
      "text/plain": [
       "     Label                                            Message          Number  \\\n",
       "4169  spam  Congrats! Nokia 3650 video camera phone is you...     09066382422   \n",
       "4991  spam  Phony £350 award - Todays Voda numbers ending ...     08712300220   \n",
       "5567  spam  This is the 2nd time we have tried 2 contact u...    087187272008   \n",
       "2312  spam  Congratulations! Thanks to a good friend U hav...     08718726971   \n",
       "2113  spam  You are a winner you have been specially selec...    087123002209   \n",
       "1227  spam  Reply with your name and address and YOU WILL ...  08700435505150   \n",
       "4258  spam  important information 4 orange user . today is...             NaN   \n",
       "4896  spam  Want the latest Video handset? 750 anytime any...     08000930705   \n",
       "881   spam  Reminder: You have not downloaded the content ...             NaN   \n",
       "3229  spam  SIX chances to win CASH! From 100 to 20,000 po...           87575   \n",
       "\n",
       "     Email  \n",
       "4169   NaN  \n",
       "4991   NaN  \n",
       "5567   NaN  \n",
       "2312   NaN  \n",
       "2113   NaN  \n",
       "1227   NaN  \n",
       "4258   NaN  \n",
       "4896   NaN  \n",
       "881    NaN  \n",
       "3229   NaN  "
      ]
     },
     "execution_count": 37,
     "metadata": {},
     "output_type": "execute_result"
    }
   ],
   "source": [
    "spam.sample(10)"
   ]
  },
  {
   "cell_type": "code",
   "execution_count": 53,
   "id": "7ea49fc9-3813-4e73-805d-84f5a4e8a702",
   "metadata": {
    "tags": []
   },
   "outputs": [],
   "source": [
    "money_pattern = '(£[0-9]*.[0-9]*\\d)'"
   ]
  },
  {
   "cell_type": "code",
   "execution_count": 54,
   "id": "f211c42b-fc1b-442c-852b-ccc36bc3cf87",
   "metadata": {
    "tags": []
   },
   "outputs": [
    {
     "data": {
      "text/html": [
       "<div>\n",
       "<style scoped>\n",
       "    .dataframe tbody tr th:only-of-type {\n",
       "        vertical-align: middle;\n",
       "    }\n",
       "\n",
       "    .dataframe tbody tr th {\n",
       "        vertical-align: top;\n",
       "    }\n",
       "\n",
       "    .dataframe thead th {\n",
       "        text-align: right;\n",
       "    }\n",
       "</style>\n",
       "<table border=\"1\" class=\"dataframe\">\n",
       "  <thead>\n",
       "    <tr style=\"text-align: right;\">\n",
       "      <th></th>\n",
       "      <th></th>\n",
       "      <th>0</th>\n",
       "    </tr>\n",
       "    <tr>\n",
       "      <th></th>\n",
       "      <th>match</th>\n",
       "      <th></th>\n",
       "    </tr>\n",
       "  </thead>\n",
       "  <tbody>\n",
       "    <tr>\n",
       "      <th>5</th>\n",
       "      <th>0</th>\n",
       "      <td>£1.50</td>\n",
       "    </tr>\n",
       "    <tr>\n",
       "      <th>8</th>\n",
       "      <th>0</th>\n",
       "      <td>£900</td>\n",
       "    </tr>\n",
       "    <tr>\n",
       "      <th>12</th>\n",
       "      <th>0</th>\n",
       "      <td>£100,000</td>\n",
       "    </tr>\n",
       "    <tr>\n",
       "      <th>65</th>\n",
       "      <th>0</th>\n",
       "      <td>£1500</td>\n",
       "    </tr>\n",
       "    <tr>\n",
       "      <th>67</th>\n",
       "      <th>0</th>\n",
       "      <td>£1000</td>\n",
       "    </tr>\n",
       "    <tr>\n",
       "      <th>...</th>\n",
       "      <th>...</th>\n",
       "      <td>...</td>\n",
       "    </tr>\n",
       "    <tr>\n",
       "      <th>5492</th>\n",
       "      <th>0</th>\n",
       "      <td>£4.50</td>\n",
       "    </tr>\n",
       "    <tr>\n",
       "      <th>5524</th>\n",
       "      <th>0</th>\n",
       "      <td>£3.99</td>\n",
       "    </tr>\n",
       "    <tr>\n",
       "      <th rowspan=\"2\" valign=\"top\">5540</th>\n",
       "      <th>0</th>\n",
       "      <td>£250 3</td>\n",
       "    </tr>\n",
       "    <tr>\n",
       "      <th>1</th>\n",
       "      <td>£800</td>\n",
       "    </tr>\n",
       "    <tr>\n",
       "      <th>5567</th>\n",
       "      <th>0</th>\n",
       "      <td>£750</td>\n",
       "    </tr>\n",
       "  </tbody>\n",
       "</table>\n",
       "<p>299 rows × 1 columns</p>\n",
       "</div>"
      ],
      "text/plain": [
       "                   0\n",
       "     match          \n",
       "5    0         £1.50\n",
       "8    0          £900\n",
       "12   0      £100,000\n",
       "65   0         £1500\n",
       "67   0         £1000\n",
       "...              ...\n",
       "5492 0         £4.50\n",
       "5524 0         £3.99\n",
       "5540 0        £250 3\n",
       "     1          £800\n",
       "5567 0          £750\n",
       "\n",
       "[299 rows x 1 columns]"
      ]
     },
     "execution_count": 54,
     "metadata": {},
     "output_type": "execute_result"
    }
   ],
   "source": [
    "spam['Message'].str.extractall(money_pattern)"
   ]
  },
  {
   "cell_type": "code",
   "execution_count": 40,
   "id": "740d3857-b07f-455d-b368-d913e5205b2a",
   "metadata": {
    "tags": []
   },
   "outputs": [
    {
     "data": {
      "text/html": [
       "<div>\n",
       "<style scoped>\n",
       "    .dataframe tbody tr th:only-of-type {\n",
       "        vertical-align: middle;\n",
       "    }\n",
       "\n",
       "    .dataframe tbody tr th {\n",
       "        vertical-align: top;\n",
       "    }\n",
       "\n",
       "    .dataframe thead th {\n",
       "        text-align: right;\n",
       "    }\n",
       "</style>\n",
       "<table border=\"1\" class=\"dataframe\">\n",
       "  <thead>\n",
       "    <tr style=\"text-align: right;\">\n",
       "      <th></th>\n",
       "      <th>Label</th>\n",
       "      <th>Message</th>\n",
       "      <th>Number</th>\n",
       "      <th>Email</th>\n",
       "    </tr>\n",
       "  </thead>\n",
       "  <tbody>\n",
       "    <tr>\n",
       "      <th>2</th>\n",
       "      <td>spam</td>\n",
       "      <td>Free entry in 2 a wkly comp to win FA Cup fina...</td>\n",
       "      <td>87121</td>\n",
       "      <td>info@txt82228.co</td>\n",
       "    </tr>\n",
       "    <tr>\n",
       "      <th>5</th>\n",
       "      <td>spam</td>\n",
       "      <td>FreeMsg Hey there darling it's been 3 week's n...</td>\n",
       "      <td>NaN</td>\n",
       "      <td>customersqueries@netvision.uk</td>\n",
       "    </tr>\n",
       "    <tr>\n",
       "      <th>8</th>\n",
       "      <td>spam</td>\n",
       "      <td>WINNER!! As a valued network customer you have...</td>\n",
       "      <td>09061701461</td>\n",
       "      <td>NaN</td>\n",
       "    </tr>\n",
       "    <tr>\n",
       "      <th>9</th>\n",
       "      <td>spam</td>\n",
       "      <td>Had your mobile 11 months or more? U R entitle...</td>\n",
       "      <td>08002986030</td>\n",
       "      <td>NaN</td>\n",
       "    </tr>\n",
       "    <tr>\n",
       "      <th>11</th>\n",
       "      <td>spam</td>\n",
       "      <td>SIX chances to win CASH! From 100 to 20,000 po...</td>\n",
       "      <td>87575</td>\n",
       "      <td>NaN</td>\n",
       "    </tr>\n",
       "  </tbody>\n",
       "</table>\n",
       "</div>"
      ],
      "text/plain": [
       "   Label                                            Message       Number  \\\n",
       "2   spam  Free entry in 2 a wkly comp to win FA Cup fina...        87121   \n",
       "5   spam  FreeMsg Hey there darling it's been 3 week's n...          NaN   \n",
       "8   spam  WINNER!! As a valued network customer you have...  09061701461   \n",
       "9   spam  Had your mobile 11 months or more? U R entitle...  08002986030   \n",
       "11  spam  SIX chances to win CASH! From 100 to 20,000 po...        87575   \n",
       "\n",
       "                            Email  \n",
       "2                info@txt82228.co  \n",
       "5   customersqueries@netvision.uk  \n",
       "8                             NaN  \n",
       "9                             NaN  \n",
       "11                            NaN  "
      ]
     },
     "execution_count": 40,
     "metadata": {},
     "output_type": "execute_result"
    }
   ],
   "source": [
    "spam.head()"
   ]
  },
  {
   "cell_type": "code",
   "execution_count": 56,
   "id": "d90cc304-66c1-4571-84a4-d7420aea0848",
   "metadata": {},
   "outputs": [
    {
     "name": "stderr",
     "output_type": "stream",
     "text": [
      "C:\\Users\\zacha\\AppData\\Local\\Temp\\ipykernel_25220\\804634859.py:1: SettingWithCopyWarning: \n",
      "A value is trying to be set on a copy of a slice from a DataFrame.\n",
      "Try using .loc[row_indexer,col_indexer] = value instead\n",
      "\n",
      "See the caveats in the documentation: https://pandas.pydata.org/pandas-docs/stable/user_guide/indexing.html#returning-a-view-versus-a-copy\n",
      "  spam['WesbiteName'] = spam['Message'].str.extractall(wesbite_pattern).reset_index(drop=True)[0]\n",
      "C:\\Users\\zacha\\AppData\\Local\\Temp\\ipykernel_25220\\804634859.py:2: SettingWithCopyWarning: \n",
      "A value is trying to be set on a copy of a slice from a DataFrame.\n",
      "Try using .loc[row_indexer,col_indexer] = value instead\n",
      "\n",
      "See the caveats in the documentation: https://pandas.pydata.org/pandas-docs/stable/user_guide/indexing.html#returning-a-view-versus-a-copy\n",
      "  spam['MoneyAmount'] = spam['Message'].str.extractall(money_pattern).reset_index(drop=True)[0]\n"
     ]
    },
    {
     "data": {
      "text/html": [
       "<div>\n",
       "<style scoped>\n",
       "    .dataframe tbody tr th:only-of-type {\n",
       "        vertical-align: middle;\n",
       "    }\n",
       "\n",
       "    .dataframe tbody tr th {\n",
       "        vertical-align: top;\n",
       "    }\n",
       "\n",
       "    .dataframe thead th {\n",
       "        text-align: right;\n",
       "    }\n",
       "</style>\n",
       "<table border=\"1\" class=\"dataframe\">\n",
       "  <thead>\n",
       "    <tr style=\"text-align: right;\">\n",
       "      <th></th>\n",
       "      <th>Label</th>\n",
       "      <th>Message</th>\n",
       "      <th>Number</th>\n",
       "      <th>Email</th>\n",
       "      <th>WesbiteName</th>\n",
       "      <th>MoneyAmount</th>\n",
       "    </tr>\n",
       "  </thead>\n",
       "  <tbody>\n",
       "    <tr>\n",
       "      <th>2</th>\n",
       "      <td>spam</td>\n",
       "      <td>Free entry in 2 a wkly comp to win FA Cup fina...</td>\n",
       "      <td>87121</td>\n",
       "      <td>info@txt82228.co</td>\n",
       "      <td>www.areyouunique.co</td>\n",
       "      <td>£100,000</td>\n",
       "    </tr>\n",
       "    <tr>\n",
       "      <th>5</th>\n",
       "      <td>spam</td>\n",
       "      <td>FreeMsg Hey there darling it's been 3 week's n...</td>\n",
       "      <td>NaN</td>\n",
       "      <td>customersqueries@netvision.uk</td>\n",
       "      <td>www.100percent-real.com</td>\n",
       "      <td>£1.50</td>\n",
       "    </tr>\n",
       "    <tr>\n",
       "      <th>8</th>\n",
       "      <td>spam</td>\n",
       "      <td>WINNER!! As a valued network customer you have...</td>\n",
       "      <td>09061701461</td>\n",
       "      <td>NaN</td>\n",
       "      <td>www.txttowin.co</td>\n",
       "      <td>£1000</td>\n",
       "    </tr>\n",
       "    <tr>\n",
       "      <th>9</th>\n",
       "      <td>spam</td>\n",
       "      <td>Had your mobile 11 months or more? U R entitle...</td>\n",
       "      <td>08002986030</td>\n",
       "      <td>NaN</td>\n",
       "      <td>www.07781482378.com</td>\n",
       "      <td>£1000</td>\n",
       "    </tr>\n",
       "    <tr>\n",
       "      <th>11</th>\n",
       "      <td>spam</td>\n",
       "      <td>SIX chances to win CASH! From 100 to 20,000 po...</td>\n",
       "      <td>87575</td>\n",
       "      <td>NaN</td>\n",
       "      <td>www.Applausestore.com</td>\n",
       "      <td>£1.50</td>\n",
       "    </tr>\n",
       "    <tr>\n",
       "      <th>...</th>\n",
       "      <td>...</td>\n",
       "      <td>...</td>\n",
       "      <td>...</td>\n",
       "      <td>...</td>\n",
       "      <td>...</td>\n",
       "      <td>...</td>\n",
       "    </tr>\n",
       "    <tr>\n",
       "      <th>5537</th>\n",
       "      <td>spam</td>\n",
       "      <td>Want explicit SEX in 30 secs? Ring 02073162414...</td>\n",
       "      <td>02073162414</td>\n",
       "      <td>NaN</td>\n",
       "      <td>NaN</td>\n",
       "      <td>NaN</td>\n",
       "    </tr>\n",
       "    <tr>\n",
       "      <th>5540</th>\n",
       "      <td>spam</td>\n",
       "      <td>ASKED 3MOBILE IF 0870 CHATLINES INCLU IN FREE ...</td>\n",
       "      <td>NaN</td>\n",
       "      <td>NaN</td>\n",
       "      <td>NaN</td>\n",
       "      <td>NaN</td>\n",
       "    </tr>\n",
       "    <tr>\n",
       "      <th>5547</th>\n",
       "      <td>spam</td>\n",
       "      <td>Had your contract mobile 11 Mnths? Latest Moto...</td>\n",
       "      <td>NaN</td>\n",
       "      <td>NaN</td>\n",
       "      <td>NaN</td>\n",
       "      <td>NaN</td>\n",
       "    </tr>\n",
       "    <tr>\n",
       "      <th>5566</th>\n",
       "      <td>spam</td>\n",
       "      <td>REMINDER FROM O2: To get 2.50 pounds free call...</td>\n",
       "      <td>NaN</td>\n",
       "      <td>NaN</td>\n",
       "      <td>NaN</td>\n",
       "      <td>NaN</td>\n",
       "    </tr>\n",
       "    <tr>\n",
       "      <th>5567</th>\n",
       "      <td>spam</td>\n",
       "      <td>This is the 2nd time we have tried 2 contact u...</td>\n",
       "      <td>087187272008</td>\n",
       "      <td>NaN</td>\n",
       "      <td>NaN</td>\n",
       "      <td>NaN</td>\n",
       "    </tr>\n",
       "  </tbody>\n",
       "</table>\n",
       "<p>747 rows × 6 columns</p>\n",
       "</div>"
      ],
      "text/plain": [
       "     Label                                            Message        Number  \\\n",
       "2     spam  Free entry in 2 a wkly comp to win FA Cup fina...         87121   \n",
       "5     spam  FreeMsg Hey there darling it's been 3 week's n...           NaN   \n",
       "8     spam  WINNER!! As a valued network customer you have...   09061701461   \n",
       "9     spam  Had your mobile 11 months or more? U R entitle...   08002986030   \n",
       "11    spam  SIX chances to win CASH! From 100 to 20,000 po...         87575   \n",
       "...    ...                                                ...           ...   \n",
       "5537  spam  Want explicit SEX in 30 secs? Ring 02073162414...   02073162414   \n",
       "5540  spam  ASKED 3MOBILE IF 0870 CHATLINES INCLU IN FREE ...           NaN   \n",
       "5547  spam  Had your contract mobile 11 Mnths? Latest Moto...           NaN   \n",
       "5566  spam  REMINDER FROM O2: To get 2.50 pounds free call...           NaN   \n",
       "5567  spam  This is the 2nd time we have tried 2 contact u...  087187272008   \n",
       "\n",
       "                              Email              WesbiteName MoneyAmount  \n",
       "2                  info@txt82228.co      www.areyouunique.co    £100,000  \n",
       "5     customersqueries@netvision.uk  www.100percent-real.com       £1.50  \n",
       "8                               NaN          www.txttowin.co       £1000  \n",
       "9                               NaN      www.07781482378.com       £1000  \n",
       "11                              NaN    www.Applausestore.com       £1.50  \n",
       "...                             ...                      ...         ...  \n",
       "5537                            NaN                      NaN         NaN  \n",
       "5540                            NaN                      NaN         NaN  \n",
       "5547                            NaN                      NaN         NaN  \n",
       "5566                            NaN                      NaN         NaN  \n",
       "5567                            NaN                      NaN         NaN  \n",
       "\n",
       "[747 rows x 6 columns]"
      ]
     },
     "execution_count": 56,
     "metadata": {},
     "output_type": "execute_result"
    }
   ],
   "source": [
    "spam['WesbiteName'] = spam['Message'].str.extractall(wesbite_pattern).reset_index(drop=True)[0]\n",
    "spam['MoneyAmount'] = spam['Message'].str.extractall(money_pattern).reset_index(drop=True)[0]\n",
    "\n",
    "spam\n"
   ]
  },
  {
   "cell_type": "code",
   "execution_count": 58,
   "id": "e2eb901e-80ce-48c8-a18e-f6c91681858a",
   "metadata": {
    "tags": []
   },
   "outputs": [
    {
     "data": {
      "text/plain": [
       "2       Free entry in 2 a wkly comp to win FA Cup fina...\n",
       "5       FreeMsg Hey there darling it's been 3 week's n...\n",
       "8       WINNER!! As a valued network customer you have...\n",
       "9       Had your mobile 11 months or more? U R entitle...\n",
       "11      SIX chances to win CASH! From 100 to 20,000 po...\n",
       "                              ...                        \n",
       "5537    Want explicit SEX in 30 secs? Ring 02073162414...\n",
       "5540    ASKED 3MOBILE IF 0870 CHATLINES INCLU IN FREE ...\n",
       "5547    Had your contract mobile 11 Mnths? Latest Moto...\n",
       "5566    REMINDER FROM O2: To get 2.50 pounds free call...\n",
       "5567    This is the 2nd time we have tried 2 contact u...\n",
       "Name: Message, Length: 747, dtype: object"
      ]
     },
     "execution_count": 58,
     "metadata": {},
     "output_type": "execute_result"
    }
   ],
   "source": [
    "spam['Message']"
   ]
  },
  {
   "cell_type": "code",
   "execution_count": null,
   "id": "2bc96d44-328e-4b22-978d-deae9877ae7e",
   "metadata": {},
   "outputs": [],
   "source": []
  }
 ],
 "metadata": {
  "kernelspec": {
   "display_name": "Python 3 (ipykernel)",
   "language": "python",
   "name": "python3"
  },
  "language_info": {
   "codemirror_mode": {
    "name": "ipython",
    "version": 3
   },
   "file_extension": ".py",
   "mimetype": "text/x-python",
   "name": "python",
   "nbconvert_exporter": "python",
   "pygments_lexer": "ipython3",
   "version": "3.11.4"
  }
 },
 "nbformat": 4,
 "nbformat_minor": 5
}
